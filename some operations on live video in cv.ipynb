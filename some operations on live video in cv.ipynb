{
 "cells": [
  {
   "cell_type": "code",
   "execution_count": 1,
   "metadata": {},
   "outputs": [],
   "source": [
    "import cv2"
   ]
  },
  {
   "cell_type": "code",
   "execution_count": 8,
   "metadata": {},
   "outputs": [],
   "source": [
    "cap = cv2.VideoCapture(0)"
   ]
  },
  {
   "cell_type": "code",
   "execution_count": null,
   "metadata": {},
   "outputs": [],
   "source": [
    "while True:\n",
    "    status , photo = cap.read()\n",
    "    cv2.imshow('hi' , photo[:,::-1,:])  # removed inversion effect\n",
    "    cv2.imshow('by' , photo[:,:,:]) #inverted: as seen while working wiht simple cam\n",
    "    if cv2.waitKey(10) == 13:  #when pressed enter it break loop will close\n",
    "        break\n",
    "    \n",
    "    \n",
    "cv2.destroyAllWindows()"
   ]
  },
  {
   "cell_type": "code",
   "execution_count": 10,
   "metadata": {},
   "outputs": [],
   "source": [
    "while True:\n",
    "    status , photo = cap.read()\n",
    "    photo1=photo[:120,:160,:]\n",
    "    photo2=photo[:120,160:320,:]\n",
    "    photo3=photo[:120,320:480,:]\n",
    "    photo4=photo[:120,480:640,:]\n",
    "    photo5=photo[120:240,:160,:]\n",
    "    photo6=photo[120:240,160:320,:]\n",
    "    photo7=photo[120:240,320:480,:]\n",
    "    photo8=photo[120:240,480:640,:]\n",
    "    photo9=photo[240:360,:160,:]\n",
    "    photo10=photo[240:360,160:320,:]\n",
    "    photo11=photo[240:360,320:480,:]\n",
    "    photo12=photo[240:360,480:640,:]\n",
    "    photo13=photo[360:480,:160,:]\n",
    "    photo14=photo[360:480,160:320,:]\n",
    "    photo15=photo[360:480,320:480,:]\n",
    "    photo16=photo[360:480,480:640,:]\n",
    "    cv2.imshow('1' , photo1)\n",
    "    cv2.imshow('2' , photo2)\n",
    "    cv2.imshow('3' , photo3)\n",
    "    cv2.imshow('4' , photo4)\n",
    "    cv2.imshow('5' , photo5)\n",
    "    cv2.imshow('6' , photo6)\n",
    "    cv2.imshow('7' , photo7)\n",
    "    cv2.imshow('8' , photo8)\n",
    "    cv2.imshow('9' , photo9)\n",
    "    cv2.imshow('10' , photo10)\n",
    "    cv2.imshow('11' , photo11)\n",
    "    cv2.imshow('12' , photo12)\n",
    "    cv2.imshow('13' , photo13)\n",
    "    cv2.imshow('14' , photo14)\n",
    "    cv2.imshow('15' , photo15)\n",
    "    cv2.imshow('16' , photo16)\n",
    "    \n",
    "    if cv2.waitKey(10) == 13:  #when pressed enter it break loop will close\n",
    "        break\n",
    "    \n",
    "    \n",
    "cv2.destroyAllWindows()"
   ]
  },
  {
   "cell_type": "code",
   "execution_count": 5,
   "metadata": {},
   "outputs": [
    {
     "data": {
      "text/plain": [
       "(480, 640, 3)"
      ]
     },
     "execution_count": 5,
     "metadata": {},
     "output_type": "execute_result"
    }
   ],
   "source": [
    "photo.shape"
   ]
  },
  {
   "cell_type": "code",
   "execution_count": 11,
   "metadata": {},
   "outputs": [],
   "source": [
    "cap.release()"
   ]
  },
  {
   "cell_type": "code",
   "execution_count": null,
   "metadata": {},
   "outputs": [],
   "source": []
  }
 ],
 "metadata": {
  "kernelspec": {
   "display_name": "Python 3",
   "language": "python",
   "name": "python3"
  },
  "language_info": {
   "codemirror_mode": {
    "name": "ipython",
    "version": 3
   },
   "file_extension": ".py",
   "mimetype": "text/x-python",
   "name": "python",
   "nbconvert_exporter": "python",
   "pygments_lexer": "ipython3",
   "version": "3.7.1"
  }
 },
 "nbformat": 4,
 "nbformat_minor": 2
}
