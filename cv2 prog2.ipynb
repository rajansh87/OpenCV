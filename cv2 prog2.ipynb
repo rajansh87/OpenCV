{
 "cells": [
  {
   "cell_type": "code",
   "execution_count": null,
   "metadata": {},
   "outputs": [],
   "source": [
    "import cv2\n"
   ]
  },
  {
   "cell_type": "code",
   "execution_count": null,
   "metadata": {},
   "outputs": [],
   "source": [
    "cap=cv2.VideoCapture(0)  #connect to webcam and 0 represents to first webcam"
   ]
  },
  {
   "cell_type": "code",
   "execution_count": null,
   "metadata": {},
   "outputs": [],
   "source": [
    "while True:\n",
    "    status,photo=cap.read()    #click photograph   and status tells whether pic clicked successfully\n",
    "    cv2.imshow(\"my image2\",photo)    #open already present photo in a window called \"my image\" .\n",
    "    # here photo variable consists of the photograph that we earlier read\n",
    "    \n",
    "    if cv2.waitKey(1)==27:   # if we press excape(esc) button then waitkey value will become 17 and\n",
    "        break               #hence it will break the loop and hence live stream will stop\n",
    "        \n",
    "    # above 27 is the waitkey value is fixed for esc button. similarly for other buttons we have other values as well.\n",
    "    \n",
    "cv2.destroyAllWindows()    #automatically destroy or close allwindows after given time period else the system would be hang\n",
    "#if we press any keyboard key then also the photograph window would close\n",
    "    "
   ]
  },
  {
   "cell_type": "code",
   "execution_count": null,
   "metadata": {},
   "outputs": [],
   "source": [
    "#the above code lead you to live stream your images as it creates,opens a image for 1ms and then closes it and again \n",
    "#repeat in a infinite loop so thus creates a video i.e Live stream"
   ]
  },
  {
   "cell_type": "code",
   "execution_count": null,
   "metadata": {},
   "outputs": [],
   "source": [
    "cap.release()     #to close webcam"
   ]
  },
  {
   "cell_type": "code",
   "execution_count": null,
   "metadata": {},
   "outputs": [],
   "source": [
    "type(photo)"
   ]
  },
  {
   "cell_type": "code",
   "execution_count": null,
   "metadata": {},
   "outputs": [],
   "source": []
  }
 ],
 "metadata": {
  "kernelspec": {
   "display_name": "Python 3",
   "language": "python",
   "name": "python3"
  },
  "language_info": {
   "codemirror_mode": {
    "name": "ipython",
    "version": 3
   },
   "file_extension": ".py",
   "mimetype": "text/x-python",
   "name": "python",
   "nbconvert_exporter": "python",
   "pygments_lexer": "ipython3",
   "version": "3.7.1"
  }
 },
 "nbformat": 4,
 "nbformat_minor": 2
}
